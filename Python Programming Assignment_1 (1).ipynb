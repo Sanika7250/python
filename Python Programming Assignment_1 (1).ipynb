{
 "cells": [
  {
   "cell_type": "markdown",
   "id": "7460a0d1",
   "metadata": {},
   "source": [
    "### 1. Write a Python program to print \"Hello Python\"?"
   ]
  },
  {
   "cell_type": "code",
   "execution_count": 8,
   "id": "c1b084ed",
   "metadata": {},
   "outputs": [
    {
     "name": "stdout",
     "output_type": "stream",
     "text": [
      "Hallo python\n"
     ]
    }
   ],
   "source": [
    "print(\"Hallo python\")"
   ]
  },
  {
   "cell_type": "markdown",
   "id": "7d2ef02f",
   "metadata": {},
   "source": [
    "### 2. Write a Python program to do arithmetical operations addition and division.?\n"
   ]
  },
  {
   "cell_type": "code",
   "execution_count": 7,
   "id": "49235243",
   "metadata": {},
   "outputs": [
    {
     "name": "stdout",
     "output_type": "stream",
     "text": [
      "30\n",
      "40\n",
      "sum of num1 and num2 is 70\n",
      "divison of num1 and num2 is 0.75\n"
     ]
    }
   ],
   "source": [
    "num1 = 30\n",
    "num2= 40\n",
    "\n",
    "print(num1)\n",
    "print(num2)\n",
    "\n",
    "sum = (num1)+(num2)\n",
    "print(\"sum of num1 and num2 is\",num1 + num2)\n",
    "\n",
    "div = (num1)/(num2)\n",
    "print(\"divison of num1 and num2 is\",num1 / num2)"
   ]
  },
  {
   "cell_type": "markdown",
   "id": "f60794e2",
   "metadata": {},
   "source": [
    "### 3. Write a Python program to find the area of a triangle?\n"
   ]
  },
  {
   "cell_type": "code",
   "execution_count": 25,
   "id": "2a932605",
   "metadata": {},
   "outputs": [
    {
     "name": "stdout",
     "output_type": "stream",
     "text": [
      "enter first side: 3\n",
      "enter second side: 5\n",
      "enter third side: 7\n",
      "the area of the triangle is 6.50\n"
     ]
    }
   ],
   "source": [
    "a = 3\n",
    "b = 5\n",
    "c = 7\n",
    "print(\"enter first side:\", a)\n",
    "print(\"enter second side:\", b)\n",
    "print(\"enter third side:\", c)\n",
    "\n",
    "s = (a+ b + c)/2\n",
    "\n",
    "area = (s*(s-a)*(s-b)*(s-c))**0.5\n",
    "print('the area of the triangle is %0.2f' %area)"
   ]
  },
  {
   "cell_type": "markdown",
   "id": "d125e953",
   "metadata": {},
   "source": [
    "### 4. Write a Python program to swap two variables?\n",
    "\n"
   ]
  },
  {
   "cell_type": "code",
   "execution_count": 28,
   "id": "9f8ea50b",
   "metadata": {},
   "outputs": [
    {
     "name": "stdout",
     "output_type": "stream",
     "text": [
      "enter value of x: 100\n",
      "enter value of y: 150\n",
      "the value of x after swapping: 150\n",
      "the value of y after swapping: 100\n"
     ]
    }
   ],
   "source": [
    "x = 100\n",
    "y = 150\n",
    "print(\"enter value of x:\", x)\n",
    "print(\"enter value of y:\", y)\n",
    "\n",
    "swap = x\n",
    "x = y\n",
    "y = swap\n",
    "\n",
    "print(\"the value of x after swapping:\",x)\n",
    "print(\"the value of y after swapping:\",y)\n",
    "\n",
    "\n"
   ]
  },
  {
   "cell_type": "markdown",
   "id": "2f3e1b8b",
   "metadata": {},
   "source": [
    "### 5. Write a Python program to generate a random number?\n"
   ]
  },
  {
   "cell_type": "code",
   "execution_count": 75,
   "id": "cbc72226",
   "metadata": {},
   "outputs": [
    {
     "name": "stdout",
     "output_type": "stream",
     "text": [
      "The random number is: 6\n"
     ]
    }
   ],
   "source": [
    "import random\n",
    "\n",
    "random_number = random.randint(1, 10)\n",
    "\n",
    "print(\"The random number is:\", random_number)\n"
   ]
  },
  {
   "cell_type": "code",
   "execution_count": null,
   "id": "1d66e13e",
   "metadata": {},
   "outputs": [],
   "source": []
  },
  {
   "cell_type": "code",
   "execution_count": null,
   "id": "1137659b",
   "metadata": {},
   "outputs": [],
   "source": []
  },
  {
   "cell_type": "code",
   "execution_count": null,
   "id": "eddb1c7c",
   "metadata": {},
   "outputs": [],
   "source": []
  }
 ],
 "metadata": {
  "kernelspec": {
   "display_name": "Python 3 (ipykernel)",
   "language": "python",
   "name": "python3"
  },
  "language_info": {
   "codemirror_mode": {
    "name": "ipython",
    "version": 3
   },
   "file_extension": ".py",
   "mimetype": "text/x-python",
   "name": "python",
   "nbconvert_exporter": "python",
   "pygments_lexer": "ipython3",
   "version": "3.9.12"
  }
 },
 "nbformat": 4,
 "nbformat_minor": 5
}
