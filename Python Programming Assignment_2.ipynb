{
 "cells": [
  {
   "cell_type": "markdown",
   "id": "924260df",
   "metadata": {},
   "source": [
    "#### 1.Write a Python program to convert kilometers to miles."
   ]
  },
  {
   "cell_type": "code",
   "execution_count": 5,
   "id": "7e69dc51",
   "metadata": {},
   "outputs": [
    {
     "name": "stdout",
     "output_type": "stream",
     "text": [
      "10 kilometers is equal to 6.21371 miles.\n"
     ]
    }
   ],
   "source": [
    "def km_to_miles(kilometers):\n",
    "    miles = kilometers * 0.621371\n",
    "    return miles\n",
    "\n",
    "kilometers = 10\n",
    "print(f\"{kilometers} kilometers is equal to {km_to_miles(kilometers)} miles.\")"
   ]
  },
  {
   "cell_type": "markdown",
   "id": "7797cdd0",
   "metadata": {},
   "source": [
    "#### 2.Write a Python program to convert Celsius to Fahrenheit.\n"
   ]
  },
  {
   "cell_type": "code",
   "execution_count": 6,
   "id": "ddeb0fd7",
   "metadata": {},
   "outputs": [
    {
     "name": "stdout",
     "output_type": "stream",
     "text": [
      "25 degrees Celsius is equal to 77.0 degrees Fahrenheit.\n"
     ]
    }
   ],
   "source": [
    "def celsius_to_fahrenheit(celsius):\n",
    "    fahrenheit = (celsius * 9/5) + 32\n",
    "    return fahrenheit\n",
    "\n",
    "# Test the function\n",
    "celsius = 25\n",
    "print(f\"{celsius} degrees Celsius is equal to {celsius_to_fahrenheit(celsius)} degrees Fahrenheit.\")"
   ]
  },
  {
   "cell_type": "markdown",
   "id": "bb5b1f57",
   "metadata": {},
   "source": [
    "#### 3.Write a Python program to display the calendar for a given year and month.\n"
   ]
  },
  {
   "cell_type": "code",
   "execution_count": 7,
   "id": "a7bb58f5",
   "metadata": {},
   "outputs": [
    {
     "name": "stdout",
     "output_type": "stream",
     "text": [
      "Calendar for July 2023:\n",
      "\n",
      "     July 2023\n",
      "Mo Tu We Th Fr Sa Su\n",
      "                1  2\n",
      " 3  4  5  6  7  8  9\n",
      "10 11 12 13 14 15 16\n",
      "17 18 19 20 21 22 23\n",
      "24 25 26 27 28 29 30\n",
      "31\n",
      "\n"
     ]
    }
   ],
   "source": [
    "import calendar\n",
    "\n",
    "def display_calendar(year, month):\n",
    "    cal = calendar.month(year, month)\n",
    "    return cal\n",
    "\n",
    "# Test the function\n",
    "year = 2023\n",
    "month = 7\n",
    "print(f\"Calendar for {calendar.month_name[month]} {year}:\\n\")\n",
    "print(display_calendar(year, month))"
   ]
  },
  {
   "cell_type": "markdown",
   "id": "672bd5b4",
   "metadata": {},
   "source": [
    "##### 4.Write a Python program to solve the quadratic equation (ax^2 + bx + c = 0).\n"
   ]
  },
  {
   "cell_type": "code",
   "execution_count": 8,
   "id": "1d054935",
   "metadata": {},
   "outputs": [
    {
     "name": "stdout",
     "output_type": "stream",
     "text": [
      "The roots of the quadratic equation are: ((2+0j), (1+0j))\n"
     ]
    }
   ],
   "source": [
    "import cmath\n",
    "\n",
    "def quadratic_equation_solver(a, b, c):\n",
    "    # Calculate the discriminant\n",
    "    discriminant = (b ** 2) - (4 * a * c)\n",
    "\n",
    "    # Calculate the solutions\n",
    "    root1 = (-b + cmath.sqrt(discriminant)) / (2 * a)\n",
    "    root2 = (-b - cmath.sqrt(discriminant)) / (2 * a)\n",
    "\n",
    "    return root1, root2\n",
    "\n",
    "# Test the function\n",
    "a = 1\n",
    "b = -3\n",
    "c = 2\n",
    "roots = quadratic_equation_solver(a, b, c)\n",
    "print(f\"The roots of the quadratic equation are: {roots}\")\n"
   ]
  },
  {
   "cell_type": "markdown",
   "id": "18af42e6",
   "metadata": {},
   "source": [
    "#### 1.Write a Python program to swap two variables without using a temporary variable.\n"
   ]
  },
  {
   "cell_type": "code",
   "execution_count": 9,
   "id": "60313ffd",
   "metadata": {},
   "outputs": [
    {
     "name": "stdout",
     "output_type": "stream",
     "text": [
      "Before swapping: x = 5, y = 10\n",
      "After swapping: x = 10, y = 5\n"
     ]
    }
   ],
   "source": [
    "def swap_variables(a, b):\n",
    "    a, b = b, a\n",
    "    return a, b\n",
    "\n",
    "# Test the function\n",
    "x = 5\n",
    "y = 10\n",
    "print(f\"Before swapping: x = {x}, y = {y}\")\n",
    "x, y = swap_variables(x, y)\n",
    "print(f\"After swapping: x = {x}, y = {y}\")"
   ]
  },
  {
   "cell_type": "code",
   "execution_count": null,
   "id": "d66b3261",
   "metadata": {},
   "outputs": [],
   "source": []
  }
 ],
 "metadata": {
  "kernelspec": {
   "display_name": "Python 3 (ipykernel)",
   "language": "python",
   "name": "python3"
  },
  "language_info": {
   "codemirror_mode": {
    "name": "ipython",
    "version": 3
   },
   "file_extension": ".py",
   "mimetype": "text/x-python",
   "name": "python",
   "nbconvert_exporter": "python",
   "pygments_lexer": "ipython3",
   "version": "3.10.9"
  }
 },
 "nbformat": 4,
 "nbformat_minor": 5
}
