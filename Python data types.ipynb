{
 "cells": [
  {
   "cell_type": "markdown",
   "id": "91ca053e",
   "metadata": {},
   "source": [
    "### Data Types"
   ]
  },
  {
   "cell_type": "code",
   "execution_count": 1,
   "id": "b2a3799e",
   "metadata": {},
   "outputs": [],
   "source": [
    "a = 5"
   ]
  },
  {
   "cell_type": "markdown",
   "id": "4f201245",
   "metadata": {},
   "source": [
    "The variable a holds integer value five and we did not define its type. Python interpreter will automatically interpret variables a as an integer type."
   ]
  },
  {
   "cell_type": "markdown",
   "id": "a2ab1d75",
   "metadata": {},
   "source": [
    "### Numeric data type - int, float, complex\n",
    "\n"
   ]
  },
  {
   "cell_type": "code",
   "execution_count": 2,
   "id": "b41d1a3a",
   "metadata": {},
   "outputs": [
    {
     "name": "stdout",
     "output_type": "stream",
     "text": [
      "The type of variable having value 100  is  <class 'int'>\n",
      "The type of variable having value 20.345  is  <class 'float'>\n",
      "The type of variable having value (10+3j)  is  <class 'complex'>\n"
     ]
    }
   ],
   "source": [
    "a=100\n",
    "print(\"The type of variable having value\", a, \" is \", type(a))\n",
    "\n",
    "b=20.345\n",
    "print(\"The type of variable having value\", b, \" is \", type(b))\n",
    "\n",
    "\n",
    "c=10+3j\n",
    "print(\"The type of variable having value\", c, \" is \", type(c))"
   ]
  },
  {
   "cell_type": "markdown",
   "id": "24410f30",
   "metadata": {},
   "source": [
    "### String data type - str\n"
   ]
  },
  {
   "cell_type": "code",
   "execution_count": 3,
   "id": "bb46497b",
   "metadata": {},
   "outputs": [
    {
     "name": "stdout",
     "output_type": "stream",
     "text": [
      "Hello World!\n",
      "H\n",
      "llo\n",
      "llo World!\n",
      "Hello World!Hello World!\n"
     ]
    }
   ],
   "source": [
    "str = 'Hello World!'\n",
    "\n",
    "print (str)         \n",
    "print (str[0])      \n",
    "print (str[2:5])     \n",
    "print (str[2:])    \n",
    "print (str * 2)     \n"
   ]
  },
  {
   "cell_type": "markdown",
   "id": "99a1a379",
   "metadata": {},
   "source": [
    "### List Data Type"
   ]
  },
  {
   "cell_type": "code",
   "execution_count": 28,
   "id": "abddfe97",
   "metadata": {},
   "outputs": [
    {
     "name": "stdout",
     "output_type": "stream",
     "text": [
      "('sanika', 1, 2, 'sohan')\n",
      "sanika\n",
      "2\n",
      "(2,)\n"
     ]
    }
   ],
   "source": [
    "list = (\"sanika\" , 1, 2, \"sohan\")\n",
    "\n",
    "print(list)\n",
    "\n",
    "print(list[0])\n",
    "\n",
    "print(list[2])\n",
    "print(list[2:3])\n",
    "\n",
    "\n",
    "\n",
    "\n",
    "\n",
    "\n"
   ]
  },
  {
   "cell_type": "markdown",
   "id": "b0c5af6f",
   "metadata": {},
   "source": [
    "### Tuple Data Type\n"
   ]
  },
  {
   "cell_type": "code",
   "execution_count": 29,
   "id": "7f73b120",
   "metadata": {},
   "outputs": [
    {
     "name": "stdout",
     "output_type": "stream",
     "text": [
      "[1, 'hi', 'sanika', 3]\n",
      "[3]\n",
      "['sanika', 3]\n",
      "[1, 'hi', 'sanika', 3, 1, 'hi', 'sanika', 3]\n",
      "[1, 'hi', 'sanika', 3, 1, 'hi', 'sanika', 3, 1, 'hi', 'sanika', 3]\n"
     ]
    }
   ],
   "source": [
    "tup = [1,'hi', 'sanika',3]\n",
    "print(tup)\n",
    "print(tup[3:])\n",
    "print(tup[2:])\n",
    "print(tup + tup)\n",
    "print(tup * 3)"
   ]
  },
  {
   "cell_type": "markdown",
   "id": "ca6232de",
   "metadata": {},
   "source": [
    "### Dictionary data type\n"
   ]
  },
  {
   "cell_type": "code",
   "execution_count": 30,
   "id": "667693e6",
   "metadata": {},
   "outputs": [
    {
     "name": "stdout",
     "output_type": "stream",
     "text": [
      "{1: 'Jimmy', 2: 'Alex', 3: 'john', 4: 'mike'}\n",
      "1st name is Jimmy\n",
      "2nd name is mike\n",
      "dict_keys([1, 2, 3, 4])\n",
      "dict_values(['Jimmy', 'Alex', 'john', 'mike'])\n"
     ]
    }
   ],
   "source": [
    "d = {1:'Jimmy', 2:'Alex', 3:'john', 4:'mike'}     \n",
    "  \n",
    "print (d)  \n",
    "  \n",
    " \n",
    "print(\"1st name is \"+d[1])   \n",
    "print(\"2nd name is \"+ d[4])    \n",
    "  \n",
    "print (d.keys())    \n",
    "print (d.values())    "
   ]
  },
  {
   "cell_type": "markdown",
   "id": "d0bc1573",
   "metadata": {},
   "source": [
    "### Boolean Data Types"
   ]
  },
  {
   "cell_type": "code",
   "execution_count": 35,
   "id": "c2b667a4",
   "metadata": {},
   "outputs": [
    {
     "name": "stdout",
     "output_type": "stream",
     "text": [
      "<class 'bool'>\n",
      "<class 'bool'>\n",
      "False\n"
     ]
    }
   ],
   "source": [
    "print(type(True))\n",
    "print(type(False))\n",
    "print(False)\n",
    "\n"
   ]
  },
  {
   "cell_type": "markdown",
   "id": "3b3bf06a",
   "metadata": {},
   "source": [
    "### Set data type"
   ]
  },
  {
   "cell_type": "code",
   "execution_count": 36,
   "id": "4c663b01",
   "metadata": {},
   "outputs": [
    {
     "name": "stdout",
     "output_type": "stream",
     "text": [
      "{'Python', 2, 3, 'James'}\n",
      "{2, 3, 'James', 10, 'Python'}\n",
      "{3, 'James', 10, 'Python'}\n"
     ]
    }
   ],
   "source": [
    "set2 = {'James', 2, 3,'Python'}  \n",
    " \n",
    "print(set2)  \n",
    "   \n",
    "  \n",
    "set2.add(10)  \n",
    "print(set2)  \n",
    "  \n",
    "set2.remove(2)  \n",
    "print(set2)  \n"
   ]
  },
  {
   "cell_type": "code",
   "execution_count": null,
   "id": "55b28025",
   "metadata": {},
   "outputs": [],
   "source": []
  }
 ],
 "metadata": {
  "kernelspec": {
   "display_name": "Python 3 (ipykernel)",
   "language": "python",
   "name": "python3"
  },
  "language_info": {
   "codemirror_mode": {
    "name": "ipython",
    "version": 3
   },
   "file_extension": ".py",
   "mimetype": "text/x-python",
   "name": "python",
   "nbconvert_exporter": "python",
   "pygments_lexer": "ipython3",
   "version": "3.9.12"
  }
 },
 "nbformat": 4,
 "nbformat_minor": 5
}
