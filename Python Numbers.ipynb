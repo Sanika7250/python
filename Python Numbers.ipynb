{
 "cells": [
  {
   "cell_type": "markdown",
   "id": "5b49472a",
   "metadata": {},
   "source": [
    "### Python Numbers\n"
   ]
  },
  {
   "cell_type": "markdown",
   "id": "37be2c9b",
   "metadata": {},
   "source": [
    "##### Python Numbers\n",
    "##### There are three numeric types in Python:\n",
    "##### int\n",
    "##### float\n",
    "##### complex\n",
    "##### Variables of numeric types are created when you assign a value to them:"
   ]
  },
  {
   "cell_type": "code",
   "execution_count": 2,
   "id": "6892cff3",
   "metadata": {},
   "outputs": [
    {
     "name": "stdout",
     "output_type": "stream",
     "text": [
      "<class 'int'>\n",
      "<class 'float'>\n",
      "<class 'complex'>\n"
     ]
    }
   ],
   "source": [
    "a = 50\n",
    "b = 30.15\n",
    "c = 3j\n",
    "\n",
    "print(type(a))\n",
    "print(type(b))\n",
    "print(type(c))\n"
   ]
  },
  {
   "cell_type": "markdown",
   "id": "5a9abc89",
   "metadata": {},
   "source": [
    "### 1. Int\n",
    "Int, or integer, is a whole number, positive or negative, without decimals, of unlimited length.\n"
   ]
  },
  {
   "cell_type": "code",
   "execution_count": 3,
   "id": "bf08503d",
   "metadata": {},
   "outputs": [
    {
     "name": "stdout",
     "output_type": "stream",
     "text": [
      "<class 'int'>\n",
      "<class 'int'>\n",
      "<class 'int'>\n"
     ]
    }
   ],
   "source": [
    "x = 300\n",
    "y = -450\n",
    "z = 100000000000000\n",
    "\n",
    "print(type(x))\n",
    "print(type(y))\n",
    "print(type(z))\n"
   ]
  },
  {
   "cell_type": "markdown",
   "id": "d4ad9ce3",
   "metadata": {},
   "source": [
    "### 2.Float\n",
    "Float, or \"floating point number\" is a number, positive or negative, containing one or more decimals."
   ]
  },
  {
   "cell_type": "code",
   "execution_count": 4,
   "id": "4b28fe8f",
   "metadata": {},
   "outputs": [
    {
     "name": "stdout",
     "output_type": "stream",
     "text": [
      "<class 'float'>\n",
      "<class 'float'>\n",
      "<class 'float'>\n"
     ]
    }
   ],
   "source": [
    "p = 30.60\n",
    "q = -90.45\n",
    "r = 10.34555555555555\n",
    "\n",
    "print(type(p))\n",
    "print(type(q))\n",
    "print(type(r))\n"
   ]
  },
  {
   "cell_type": "markdown",
   "id": "c30452eb",
   "metadata": {},
   "source": [
    "### Complex\n",
    "Complex numbers are written with a \"j\" as the imaginary part:\n",
    "\n"
   ]
  },
  {
   "cell_type": "code",
   "execution_count": 5,
   "id": "0f1c0193",
   "metadata": {},
   "outputs": [
    {
     "name": "stdout",
     "output_type": "stream",
     "text": [
      "<class 'complex'>\n",
      "<class 'complex'>\n",
      "<class 'complex'>\n"
     ]
    }
   ],
   "source": [
    "a = 2j\n",
    "b = -5j\n",
    "c = 3+8j\n",
    "\n",
    "print(type(a))\n",
    "print(type(b))\n",
    "print(type(c))"
   ]
  },
  {
   "cell_type": "code",
   "execution_count": null,
   "id": "39303b31",
   "metadata": {},
   "outputs": [],
   "source": []
  }
 ],
 "metadata": {
  "kernelspec": {
   "display_name": "Python 3 (ipykernel)",
   "language": "python",
   "name": "python3"
  },
  "language_info": {
   "codemirror_mode": {
    "name": "ipython",
    "version": 3
   },
   "file_extension": ".py",
   "mimetype": "text/x-python",
   "name": "python",
   "nbconvert_exporter": "python",
   "pygments_lexer": "ipython3",
   "version": "3.9.12"
  }
 },
 "nbformat": 4,
 "nbformat_minor": 5
}
