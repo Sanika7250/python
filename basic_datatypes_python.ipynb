{
 "cells": [
  {
   "cell_type": "markdown",
   "id": "9a327e5a",
   "metadata": {},
   "source": [
    "### Data types -"
   ]
  },
  {
   "cell_type": "markdown",
   "id": "14ff37d3",
   "metadata": {},
   "source": [
    "#### Numric data types :\n",
    "- int = represents the number\n",
    "- float = reprents the decimal and floating number\n",
    "- complex = represents the number with real and imaginary part"
   ]
  },
  {
   "cell_type": "code",
   "execution_count": 2,
   "id": "fbc5f7da",
   "metadata": {},
   "outputs": [],
   "source": [
    "# int\n",
    "a = 10"
   ]
  },
  {
   "cell_type": "code",
   "execution_count": 3,
   "id": "5b692569",
   "metadata": {},
   "outputs": [
    {
     "data": {
      "text/plain": [
       "int"
      ]
     },
     "execution_count": 3,
     "metadata": {},
     "output_type": "execute_result"
    }
   ],
   "source": [
    "type(10)"
   ]
  },
  {
   "cell_type": "code",
   "execution_count": 4,
   "id": "b36f9e08",
   "metadata": {},
   "outputs": [],
   "source": [
    "# float\n",
    "b = 34.14"
   ]
  },
  {
   "cell_type": "code",
   "execution_count": 5,
   "id": "418fe8fe",
   "metadata": {},
   "outputs": [
    {
     "data": {
      "text/plain": [
       "float"
      ]
     },
     "execution_count": 5,
     "metadata": {},
     "output_type": "execute_result"
    }
   ],
   "source": [
    "type(34.14)"
   ]
  },
  {
   "cell_type": "code",
   "execution_count": 6,
   "id": "e393d050",
   "metadata": {},
   "outputs": [],
   "source": [
    "# conplex\n",
    "c = 2+3j"
   ]
  },
  {
   "cell_type": "code",
   "execution_count": 7,
   "id": "c4d9d707",
   "metadata": {},
   "outputs": [
    {
     "data": {
      "text/plain": [
       "complex"
      ]
     },
     "execution_count": 7,
     "metadata": {},
     "output_type": "execute_result"
    }
   ],
   "source": [
    "type(2+3j)"
   ]
  },
  {
   "cell_type": "code",
   "execution_count": 40,
   "id": "6465be70",
   "metadata": {},
   "outputs": [
    {
     "name": "stdout",
     "output_type": "stream",
     "text": [
      "the type of variable having value 10 is <class 'int'>\n",
      "the type of variable having value 10 is <class 'float'>\n",
      "the type of veriable having value 10 is <class 'complex'>\n"
     ]
    }
   ],
   "source": [
    "a = 10\n",
    "print(\"the type of variable having value\", a, \"is\", type(a))\n",
    "\n",
    "b = 34.14\n",
    "print(\"the type of variable having value\", a, \"is\", type(b))\n",
    "\n",
    "c = 2+4j\n",
    "print(\"the type of veriable having value\", a, \"is\",type(c))\n",
    "\n"
   ]
  },
  {
   "cell_type": "markdown",
   "id": "4c6e5e27",
   "metadata": {},
   "source": [
    "#### 2.sequence data type -\n",
    "- 1.str - str represent the textual data\n",
    "- 2.list - list represents the ordered collection that allows duplicates and is mutable\n",
    "- 3.tuple - tuple represents the ordered collection that alliws duplicates and is immutable"
   ]
  },
  {
   "cell_type": "code",
   "execution_count": 8,
   "id": "4d3033f5",
   "metadata": {},
   "outputs": [],
   "source": [
    "# str \n",
    "a = \"hallo world!\""
   ]
  },
  {
   "cell_type": "code",
   "execution_count": 9,
   "id": "6a21b0f7",
   "metadata": {},
   "outputs": [
    {
     "data": {
      "text/plain": [
       "str"
      ]
     },
     "execution_count": 9,
     "metadata": {},
     "output_type": "execute_result"
    }
   ],
   "source": [
    "type(\"hallo world!\")"
   ]
  },
  {
   "cell_type": "code",
   "execution_count": 10,
   "id": "b2654380",
   "metadata": {},
   "outputs": [],
   "source": [
    "# list\n",
    "list = {1,2,3,4}"
   ]
  },
  {
   "cell_type": "code",
   "execution_count": 12,
   "id": "69eaec2e",
   "metadata": {},
   "outputs": [
    {
     "data": {
      "text/plain": [
       "list"
      ]
     },
     "execution_count": 12,
     "metadata": {},
     "output_type": "execute_result"
    }
   ],
   "source": [
    "type([1,2,3,4])"
   ]
  },
  {
   "cell_type": "code",
   "execution_count": 13,
   "id": "7b5853c6",
   "metadata": {},
   "outputs": [],
   "source": [
    "# tuple\n",
    "tuple = (20,30,40)"
   ]
  },
  {
   "cell_type": "code",
   "execution_count": 16,
   "id": "5a0a53bf",
   "metadata": {},
   "outputs": [
    {
     "data": {
      "text/plain": [
       "tuple"
      ]
     },
     "execution_count": 16,
     "metadata": {},
     "output_type": "execute_result"
    }
   ],
   "source": [
    "type((20,30,40))"
   ]
  },
  {
   "cell_type": "code",
   "execution_count": 46,
   "id": "056f969d",
   "metadata": {},
   "outputs": [
    {
     "name": "stdout",
     "output_type": "stream",
     "text": [
      "the type of variables having world hallo world is <class 'str'>\n",
      "the type of variables having value [1, 2, 3] is <class 'list'>\n",
      "the type of variables having value (1, 2, 3) is <class 'tuple'>\n"
     ]
    }
   ],
   "source": [
    "str = \"hallo world\"\n",
    "print(\"the type of variables having world\", str, \"is\", type(str))\n",
    "\n",
    "list = [1,2,3]\n",
    "print(\"the type of variables having value\", list, \"is\", type(list))\n",
    "\n",
    "tuple = (1,2,3)\n",
    "print(\"the type of variables having value\", tuple, \"is\", type(tuple))\n",
    "\n",
    "\n",
    "\n",
    "\n"
   ]
  },
  {
   "cell_type": "code",
   "execution_count": 64,
   "id": "56470754",
   "metadata": {},
   "outputs": [],
   "source": [
    "str = \"Hallo World!\""
   ]
  },
  {
   "cell_type": "code",
   "execution_count": 73,
   "id": "531ded61",
   "metadata": {},
   "outputs": [
    {
     "name": "stdout",
     "output_type": "stream",
     "text": [
      "Hallo World!\n",
      "H\n",
      " World!\n",
      "Hallo\n"
     ]
    }
   ],
   "source": [
    "print(str)\n",
    "print(str[0])\n",
    "print(str[5:])\n",
    "print(str[:5])"
   ]
  },
  {
   "cell_type": "code",
   "execution_count": 78,
   "id": "dae2af46",
   "metadata": {},
   "outputs": [
    {
     "name": "stdout",
     "output_type": "stream",
     "text": [
      "['sanika', 101, 'pune', 340]\n",
      "['pune', 340]\n",
      "[101]\n"
     ]
    }
   ],
   "source": [
    "list = [\"sanika\", 101,\"pune\",340]\n",
    "\n",
    "print(list)\n",
    "print(list[2:])\n",
    "print(list[1:2])\n"
   ]
  },
  {
   "cell_type": "code",
   "execution_count": 82,
   "id": "ebb17805",
   "metadata": {},
   "outputs": [
    {
     "name": "stdout",
     "output_type": "stream",
     "text": [
      "[1, 'hi', 'sanika', 3]\n",
      "[3]\n",
      "['sanika', 3]\n",
      "[1, 'hi', 'sanika', 3, 1, 'hi', 'sanika', 3]\n",
      "[1, 'hi', 'sanika', 3, 1, 'hi', 'sanika', 3, 1, 'hi', 'sanika', 3]\n"
     ]
    }
   ],
   "source": [
    "tup = [1,'hi', 'sanika',3]\n",
    "print(tup)\n",
    "print(tup[3:])\n",
    "print(tup[2:])\n",
    "print(tup + tup)\n",
    "print(tup * 3)"
   ]
  },
  {
   "cell_type": "markdown",
   "id": "3d3d3fe4",
   "metadata": {},
   "source": [
    "#### 3.set data type -\n",
    "- 1.set - set type is an unordered collection of unique element\n",
    "- 2.frozenset - frozenset is an immutable set"
   ]
  },
  {
   "cell_type": "code",
   "execution_count": 17,
   "id": "9ebea66d",
   "metadata": {},
   "outputs": [],
   "source": [
    "# set\n",
    "set = ((1,2,3,4))"
   ]
  },
  {
   "cell_type": "code",
   "execution_count": 19,
   "id": "05e724ad",
   "metadata": {},
   "outputs": [
    {
     "data": {
      "text/plain": [
       "set"
      ]
     },
     "execution_count": 19,
     "metadata": {},
     "output_type": "execute_result"
    }
   ],
   "source": [
    "type({1,2,3,4})"
   ]
  },
  {
   "cell_type": "code",
   "execution_count": 21,
   "id": "896b3370",
   "metadata": {},
   "outputs": [
    {
     "data": {
      "text/plain": [
       "frozenset"
      ]
     },
     "execution_count": 21,
     "metadata": {},
     "output_type": "execute_result"
    }
   ],
   "source": [
    "# frozenset\n",
    "type(frozenset({1,2,3,4}))"
   ]
  },
  {
   "cell_type": "code",
   "execution_count": 59,
   "id": "a186a97d",
   "metadata": {},
   "outputs": [
    {
     "name": "stdout",
     "output_type": "stream",
     "text": [
      "the type of veriable set is having a value {1, 2, 3, 4} is <class 'set'>\n"
     ]
    }
   ],
   "source": [
    "set = {1,2,3,4}\n",
    "print(\"the type of veriable set is having a value\", set, \"is\", type(set))\n",
    "\n"
   ]
  },
  {
   "cell_type": "markdown",
   "id": "aceb0652",
   "metadata": {},
   "source": [
    "#### 4. Mapping Type\n",
    "- 1.dict: Dictionary type represents a collection of key-value pairs."
   ]
  },
  {
   "cell_type": "code",
   "execution_count": 25,
   "id": "0188badb",
   "metadata": {},
   "outputs": [],
   "source": [
    "dict = {'name':'sanika','age':'22','city':'pune'}"
   ]
  },
  {
   "cell_type": "code",
   "execution_count": 27,
   "id": "e91ba9e9",
   "metadata": {},
   "outputs": [
    {
     "data": {
      "text/plain": [
       "dict"
      ]
     },
     "execution_count": 27,
     "metadata": {},
     "output_type": "execute_result"
    }
   ],
   "source": [
    "type({'name':'sanika','age':'22','city':'pune'})"
   ]
  },
  {
   "cell_type": "code",
   "execution_count": 62,
   "id": "14b6aa43",
   "metadata": {},
   "outputs": [
    {
     "name": "stdout",
     "output_type": "stream",
     "text": [
      "the type of dict having a value {'name': 'sanika', 'age': '22', 'city': 'pune'} is <class 'dict'>\n"
     ]
    }
   ],
   "source": [
    "dict ={'name':'sanika','age':'22','city':'pune'}\n",
    "print(\"the type of dict having a value\", dict, \"is\", type(dict))"
   ]
  },
  {
   "cell_type": "code",
   "execution_count": 83,
   "id": "2404bb95",
   "metadata": {},
   "outputs": [
    {
     "name": "stdout",
     "output_type": "stream",
     "text": [
      "{1: 'Jimmy', 2: 'Alex', 3: 'john', 4: 'mike'}\n",
      "1st name is Jimmy\n",
      "2nd name is mike\n",
      "dict_keys([1, 2, 3, 4])\n",
      "dict_values(['Jimmy', 'Alex', 'john', 'mike'])\n"
     ]
    }
   ],
   "source": [
    "d = {1:'Jimmy', 2:'Alex', 3:'john', 4:'mike'}     \n",
    "  \n",
    "print (d)  \n",
    "  \n",
    " \n",
    "print(\"1st name is \"+d[1])   \n",
    "print(\"2nd name is \"+ d[4])    \n",
    "  \n",
    "print (d.keys())    \n",
    "print (d.values())    "
   ]
  },
  {
   "cell_type": "markdown",
   "id": "2309fca2",
   "metadata": {},
   "source": [
    "#### 5.Boolean Type:\n",
    "- 1.bool: Boolean type represents True or False values."
   ]
  },
  {
   "cell_type": "code",
   "execution_count": 31,
   "id": "8ce0d3f1",
   "metadata": {},
   "outputs": [],
   "source": [
    "bool = True\n",
    "bool = False"
   ]
  },
  {
   "cell_type": "code",
   "execution_count": 30,
   "id": "77c9b53a",
   "metadata": {},
   "outputs": [
    {
     "data": {
      "text/plain": [
       "bool"
      ]
     },
     "execution_count": 30,
     "metadata": {},
     "output_type": "execute_result"
    }
   ],
   "source": [
    "type(True)"
   ]
  },
  {
   "cell_type": "code",
   "execution_count": 32,
   "id": "0d0c67be",
   "metadata": {},
   "outputs": [
    {
     "data": {
      "text/plain": [
       "bool"
      ]
     },
     "execution_count": 32,
     "metadata": {},
     "output_type": "execute_result"
    }
   ],
   "source": [
    "type(False)"
   ]
  },
  {
   "cell_type": "code",
   "execution_count": 63,
   "id": "d8cc3e7b",
   "metadata": {},
   "outputs": [
    {
     "name": "stdout",
     "output_type": "stream",
     "text": [
      "type of bool having a value True is <class 'bool'>\n",
      "type of bool having a value False is <class 'bool'>\n"
     ]
    }
   ],
   "source": [
    "bool_1 = True\n",
    "bool_2 = False\n",
    "\n",
    "print(\"type of bool having a value\", bool_1,\"is\", type(bool_1))\n",
    "print(\"type of bool having a value\", bool_2,\"is\", type(bool_2))\n",
    "\n",
    "\n"
   ]
  },
  {
   "cell_type": "code",
   "execution_count": 84,
   "id": "b45d617b",
   "metadata": {},
   "outputs": [
    {
     "name": "stdout",
     "output_type": "stream",
     "text": [
      "<class 'bool'>\n",
      "<class 'bool'>\n",
      "False\n"
     ]
    }
   ],
   "source": [
    "print(type(True))\n",
    "print(type(False))\n",
    "print(False)"
   ]
  },
  {
   "cell_type": "markdown",
   "id": "d31b2c15",
   "metadata": {},
   "source": [
    "#### 6.None type\n",
    "- 1.NoneType: Represents the absence of a value or a null value."
   ]
  },
  {
   "cell_type": "code",
   "execution_count": 37,
   "id": "c363742c",
   "metadata": {},
   "outputs": [],
   "source": [
    "a = None"
   ]
  },
  {
   "cell_type": "code",
   "execution_count": 38,
   "id": "fd046bbb",
   "metadata": {},
   "outputs": [
    {
     "data": {
      "text/plain": [
       "NoneType"
      ]
     },
     "execution_count": 38,
     "metadata": {},
     "output_type": "execute_result"
    }
   ],
   "source": [
    "type(None)"
   ]
  }
 ],
 "metadata": {
  "kernelspec": {
   "display_name": "Python 3 (ipykernel)",
   "language": "python",
   "name": "python3"
  },
  "language_info": {
   "codemirror_mode": {
    "name": "ipython",
    "version": 3
   },
   "file_extension": ".py",
   "mimetype": "text/x-python",
   "name": "python",
   "nbconvert_exporter": "python",
   "pygments_lexer": "ipython3",
   "version": "3.11.5"
  }
 },
 "nbformat": 4,
 "nbformat_minor": 5
}
