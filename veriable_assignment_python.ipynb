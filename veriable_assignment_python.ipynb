{
 "cells": [
  {
   "cell_type": "markdown",
   "id": "733bf8c1",
   "metadata": {},
   "source": [
    "### veriable assignment\n",
    "- variable assignment is the process of associating a name (the variable) with a value. This value can be of any data type, such as numbers, strings, lists, or more complex objects.\n",
    "####  syntax :- var_name = values"
   ]
  },
  {
   "cell_type": "code",
   "execution_count": 5,
   "id": "87ff592a",
   "metadata": {},
   "outputs": [],
   "source": [
    "#syntax\n",
    "# var_name = values\n",
    "\n",
    "a=10  # a is a variable and 10 is a value of a variable"
   ]
  },
  {
   "cell_type": "code",
   "execution_count": 6,
   "id": "10e2b92e",
   "metadata": {},
   "outputs": [
    {
     "data": {
      "text/plain": [
       "int"
      ]
     },
     "execution_count": 6,
     "metadata": {},
     "output_type": "execute_result"
    }
   ],
   "source": [
    "type(a)"
   ]
  },
  {
   "cell_type": "markdown",
   "id": "0d2beb73",
   "metadata": {},
   "source": [
    "#### 1.Variable Naming Rules:\n",
    "\n",
    "- Variable names in Python must start with a letter (a-z, A-Z) or an underscore (_).\n",
    "- The subsequent characters can be letters, numbers, or underscores.\n",
    "- Variable names are case-sensitive (myVar and myvar would be different variables)."
   ]
  },
  {
   "cell_type": "code",
   "execution_count": 7,
   "id": "c876f268",
   "metadata": {},
   "outputs": [],
   "source": [
    "my_variable = 42\n",
    "another_variable = \"Hello, Python!\""
   ]
  },
  {
   "cell_type": "code",
   "execution_count": 11,
   "id": "cb2dc004",
   "metadata": {},
   "outputs": [
    {
     "name": "stdout",
     "output_type": "stream",
     "text": [
      "my variable is 42 and another variable is Hello, Python!\n"
     ]
    }
   ],
   "source": [
    "print(\"my variable is {} and another variable is {}\".format(my_variable,another_variable))"
   ]
  },
  {
   "cell_type": "markdown",
   "id": "8eb410c9",
   "metadata": {},
   "source": [
    "#### 2.Assignment Operator:\n",
    "\n",
    "- The assignment is performed using the = operator.\n",
    "- The value on the right side of the = is assigned to the variable on the left side."
   ]
  },
  {
   "cell_type": "code",
   "execution_count": 12,
   "id": "59977fb2",
   "metadata": {},
   "outputs": [],
   "source": [
    "x = 5        # Assign the value 5 to the variable x\n",
    "message = \"x = 5        # Assign the value 5 to the variable x\n",
    "message = \"Variable assignment in Python\"\""
   ]
  },
  {
   "cell_type": "code",
   "execution_count": 13,
   "id": "92fe8de4",
   "metadata": {},
   "outputs": [
    {
     "name": "stdout",
     "output_type": "stream",
     "text": [
      "x is 5 and messeage is Variable assignment in Python\n"
     ]
    }
   ],
   "source": [
    "print(\"x is 5 and messeage is Variable assignment in Python\")"
   ]
  },
  {
   "cell_type": "markdown",
   "id": "5bd91eed",
   "metadata": {},
   "source": [
    "#### 3.Multiple Assignment:\n",
    "\n",
    "- Python allows you to assign multiple variables in a single line."
   ]
  },
  {
   "cell_type": "code",
   "execution_count": 14,
   "id": "2917d6a8",
   "metadata": {},
   "outputs": [],
   "source": [
    "a,b,c = 10,20,30"
   ]
  },
  {
   "cell_type": "code",
   "execution_count": 18,
   "id": "3a1d3354",
   "metadata": {},
   "outputs": [
    {
     "name": "stdout",
     "output_type": "stream",
     "text": [
      "a is assigned 10 , b is assigned 20 and c is assigned 30\n"
     ]
    }
   ],
   "source": [
    "print(\"a is assigned {} , b is assigned {} and c is assigned {}\".format(a,b,c))"
   ]
  },
  {
   "cell_type": "markdown",
   "id": "a98bc8de",
   "metadata": {},
   "source": [
    "#### 4.Reassignment:\n",
    "\n",
    "- Variables can be reassigned to new values."
   ]
  },
  {
   "cell_type": "code",
   "execution_count": 31,
   "id": "606bf4a7",
   "metadata": {},
   "outputs": [],
   "source": [
    "X = 5\n",
    "Y = x+5"
   ]
  },
  {
   "cell_type": "code",
   "execution_count": 33,
   "id": "bd466f4d",
   "metadata": {},
   "outputs": [
    {
     "name": "stdout",
     "output_type": "stream",
     "text": [
      "X is assigned 5 and Y is reassigned the value of 10\n"
     ]
    }
   ],
   "source": [
    "print(\"X is assigned {} and Y is reassigned the value of {}\".format(X,Y))"
   ]
  },
  {
   "cell_type": "markdown",
   "id": "73eb60e6",
   "metadata": {},
   "source": [
    "#### 5.Dynamic Typing:\n",
    "\n",
    "- Python is dynamically typed, meaning you don't need to declare the type of a variable.\n",
    "- The type of a variable is determined at runtime based on the assigned value."
   ]
  },
  {
   "cell_type": "code",
   "execution_count": 34,
   "id": "aa9b4800",
   "metadata": {},
   "outputs": [],
   "source": [
    "dynamic_var = 3.14   # dynamic_var is now a float\n",
    "dynamic_var = \"Hello\" # dynamic_var is now a string"
   ]
  },
  {
   "cell_type": "markdown",
   "id": "733e846e",
   "metadata": {},
   "source": [
    "#### 6.Unpacking:\n",
    "\n",
    "- Python supports unpacking, where multiple values on the right side can be assigned to multiple variables on the left side."
   ]
  },
  {
   "cell_type": "code",
   "execution_count": 46,
   "id": "acf56d46",
   "metadata": {},
   "outputs": [
    {
     "name": "stdout",
     "output_type": "stream",
     "text": [
      "coordinates is (3, 4)\n",
      "x assigned is 3 and y assigned is 4\n"
     ]
    }
   ],
   "source": [
    "coordinates = (3, 4)\n",
    "print(\"coordinates is {}\".format(coordinates))\n",
    "\n",
    "x, y = coordinates   # x is assigned 3, y is assigned 4\n",
    "print(\"x assigned is {} and y assigned is {}\".format(x,y))"
   ]
  },
  {
   "cell_type": "markdown",
   "id": "f81252ea",
   "metadata": {},
   "source": [
    "#### 7.None:\n",
    "\n",
    "- Python has a special constant called None representing the absence of a value.\n",
    "- You can assign variables to None to indicate no specific value."
   ]
  },
  {
   "cell_type": "code",
   "execution_count": 47,
   "id": "658736c5",
   "metadata": {},
   "outputs": [],
   "source": [
    "empty_variable = None\n"
   ]
  },
  {
   "cell_type": "code",
   "execution_count": 52,
   "id": "56f7a678",
   "metadata": {},
   "outputs": [
    {
     "name": "stdout",
     "output_type": "stream",
     "text": [
      "empty_variable is None\n"
     ]
    }
   ],
   "source": [
    "print(\"empty_variable is\",empty_variable)"
   ]
  },
  {
   "cell_type": "markdown",
   "id": "db4e21da",
   "metadata": {},
   "source": [
    "## verious ways of printing"
   ]
  },
  {
   "cell_type": "code",
   "execution_count": 53,
   "id": "1b51245d",
   "metadata": {},
   "outputs": [
    {
     "name": "stdout",
     "output_type": "stream",
     "text": [
      "200\n",
      "10\n",
      "30\n",
      "300\n",
      "10\n",
      "100000000000000000000\n"
     ]
    }
   ],
   "source": [
    "a = 10\n",
    "b = 20\n",
    "\n",
    "print(a*b)\n",
    "print(b-a)\n",
    "print(a+b)\n",
    "print((a+b)*a)\n",
    "print(a%b)\n",
    "print(a**b)"
   ]
  },
  {
   "cell_type": "code",
   "execution_count": 54,
   "id": "4e6714b1",
   "metadata": {},
   "outputs": [
    {
     "name": "stdout",
     "output_type": "stream",
     "text": [
      "my first name is sanika and last name is bodhale\n"
     ]
    }
   ],
   "source": [
    "first_name = \"sanika\"\n",
    "last_name = \"bodhale\"\n",
    "\n",
    "print(\"my first name is {} and last name is {}\".format(first_name,last_name))"
   ]
  },
  {
   "cell_type": "code",
   "execution_count": 57,
   "id": "2df7bcab",
   "metadata": {},
   "outputs": [
    {
     "name": "stdout",
     "output_type": "stream",
     "text": [
      "my first name is sanika\n",
      "my last name is bodhale\n"
     ]
    }
   ],
   "source": [
    "first_name = \"sanika\"\n",
    "last_name = \"bodhale\"\n",
    "\n",
    "print(\"my first name is\",first_name)\n",
    "print(\"my last name is\",last_name)"
   ]
  },
  {
   "cell_type": "code",
   "execution_count": 71,
   "id": "77e1cea0",
   "metadata": {},
   "outputs": [
    {
     "name": "stdout",
     "output_type": "stream",
     "text": [
      "my first name is sanika and last name is bodhale\n"
     ]
    }
   ],
   "source": [
    "first_name = \"sanika\"\n",
    "last_name = \"bodhale\"\n",
    "\n",
    "print(\"my first name is {first} and last name is {last}\".format(first=first_name,last=last_name))"
   ]
  },
  {
   "cell_type": "code",
   "execution_count": null,
   "id": "b6e02e07",
   "metadata": {},
   "outputs": [],
   "source": []
  }
 ],
 "metadata": {
  "kernelspec": {
   "display_name": "Python 3 (ipykernel)",
   "language": "python",
   "name": "python3"
  },
  "language_info": {
   "codemirror_mode": {
    "name": "ipython",
    "version": 3
   },
   "file_extension": ".py",
   "mimetype": "text/x-python",
   "name": "python",
   "nbconvert_exporter": "python",
   "pygments_lexer": "ipython3",
   "version": "3.11.5"
  }
 },
 "nbformat": 4,
 "nbformat_minor": 5
}
