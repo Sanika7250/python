{
 "cells": [
  {
   "cell_type": "markdown",
   "id": "30eb36f1",
   "metadata": {},
   "source": [
    "#### 1. Write a Python Program to Find the Factorial of a Number.# "
   ]
  },
  {
   "cell_type": "code",
   "execution_count": 1,
   "id": "51040891",
   "metadata": {},
   "outputs": [
    {
     "name": "stdout",
     "output_type": "stream",
     "text": [
      "The factorial of 5 is 120\n"
     ]
    }
   ],
   "source": [
    "def factorial(num):\n",
    "    if num == 0 or num == 1:\n",
    "        return 1\n",
    "    else:\n",
    "        return num * factorial(num - 1)\n",
    "\n",
    "# Test the function\n",
    "number = 5\n",
    "print(f\"The factorial of {number} is {factorial(number)}\")"
   ]
  },
  {
   "cell_type": "markdown",
   "id": "860dfa9c",
   "metadata": {},
   "source": [
    "#### 2. Write a Python Program to Display the Multiplication Table.\n"
   ]
  },
  {
   "cell_type": "code",
   "execution_count": 2,
   "id": "b2de3a00",
   "metadata": {},
   "outputs": [
    {
     "name": "stdout",
     "output_type": "stream",
     "text": [
      "Multiplication table of 7:\n",
      "7 x 1 = 7\n",
      "7 x 2 = 14\n",
      "7 x 3 = 21\n",
      "7 x 4 = 28\n",
      "7 x 5 = 35\n",
      "7 x 6 = 42\n",
      "7 x 7 = 49\n",
      "7 x 8 = 56\n",
      "7 x 9 = 63\n",
      "7 x 10 = 70\n"
     ]
    }
   ],
   "source": [
    "def multiplication_table(num):\n",
    "    for i in range(1, 11):\n",
    "        print(f\"{num} x {i} = {num * i}\")\n",
    "\n",
    "# Test the function\n",
    "number = 7\n",
    "print(f\"Multiplication table of {number}:\")\n",
    "multiplication_table(number)"
   ]
  },
  {
   "cell_type": "markdown",
   "id": "e6442c6a",
   "metadata": {},
   "source": [
    "#### 3. Write a Python Program to Print the Fibonacci Sequence.\n"
   ]
  },
  {
   "cell_type": "code",
   "execution_count": 3,
   "id": "6cb76df0",
   "metadata": {},
   "outputs": [
    {
     "name": "stdout",
     "output_type": "stream",
     "text": [
      "Fibonacci sequence of length 10:\n",
      "[0, 1, 1, 2, 3, 5, 8, 13, 21, 34]\n"
     ]
    }
   ],
   "source": [
    "def fibonacci_sequence(n):\n",
    "    fibonacci = [0, 1]\n",
    "    while len(fibonacci) < n:\n",
    "        next_num = fibonacci[-1] + fibonacci[-2]\n",
    "        fibonacci.append(next_num)\n",
    "    return fibonacci\n",
    "\n",
    "# Test the function\n",
    "length = 10\n",
    "print(f\"Fibonacci sequence of length {length}:\")\n",
    "print(fibonacci_sequence(length))"
   ]
  },
  {
   "cell_type": "markdown",
   "id": "96077bb9",
   "metadata": {},
   "source": [
    "#### 3. Write a Python Program to Check Armstrong Number.\n"
   ]
  },
  {
   "cell_type": "code",
   "execution_count": 4,
   "id": "272ec168",
   "metadata": {},
   "outputs": [
    {
     "name": "stdout",
     "output_type": "stream",
     "text": [
      "153 is an Armstrong number.\n"
     ]
    }
   ],
   "source": [
    "def is_armstrong_number(num):\n",
    "    num_str = str(num)\n",
    "    power = len(num_str)\n",
    "    armstrong_sum = sum(int(digit) ** power for digit in num_str)\n",
    "    return num == armstrong_sum\n",
    "\n",
    "# Test the function\n",
    "number = 153\n",
    "if is_armstrong_number(number):\n",
    "    print(f\"{number} is an Armstrong number.\")\n",
    "else:\n",
    "    print(f\"{number} is not an Armstrong number.\")"
   ]
  },
  {
   "cell_type": "markdown",
   "id": "057a3bb9",
   "metadata": {},
   "source": [
    "#### 4. Write a Python Program to Find Armstrong Number in an Interval.\n"
   ]
  },
  {
   "cell_type": "code",
   "execution_count": 5,
   "id": "7665a6db",
   "metadata": {},
   "outputs": [
    {
     "name": "stdout",
     "output_type": "stream",
     "text": [
      "Armstrong numbers between 1 and 1000:\n",
      "[1, 2, 3, 4, 5, 6, 7, 8, 9, 153, 370, 371, 407]\n"
     ]
    }
   ],
   "source": [
    "def find_armstrong_numbers(start, end):\n",
    "    armstrong_numbers = []\n",
    "    for num in range(start, end + 1):\n",
    "        if is_armstrong_number(num):\n",
    "            armstrong_numbers.append(num)\n",
    "    return armstrong_numbers\n",
    "\n",
    "# Test the function\n",
    "start, end = 1, 1000\n",
    "print(f\"Armstrong numbers between {start} and {end}:\")\n",
    "print(find_armstrong_numbers(start, end))"
   ]
  },
  {
   "cell_type": "markdown",
   "id": "bcb072bb",
   "metadata": {},
   "source": [
    "#### 5. Write a Python Program to Find the Sum of Natural Numbers.\n"
   ]
  },
  {
   "cell_type": "code",
   "execution_count": 6,
   "id": "ef1395f5",
   "metadata": {},
   "outputs": [
    {
     "name": "stdout",
     "output_type": "stream",
     "text": [
      "The sum of natural numbers up to 100 is 5050\n"
     ]
    }
   ],
   "source": [
    "def sum_of_natural_numbers(n):\n",
    "    return n * (n + 1) // 2\n",
    "\n",
    "# Test the function\n",
    "number = 100\n",
    "print(f\"The sum of natural numbers up to {number} is {sum_of_natural_numbers(number)}\")"
   ]
  },
  {
   "cell_type": "code",
   "execution_count": null,
   "id": "9986ea4d",
   "metadata": {},
   "outputs": [],
   "source": []
  },
  {
   "cell_type": "code",
   "execution_count": null,
   "id": "c9c9eaf7",
   "metadata": {},
   "outputs": [],
   "source": []
  },
  {
   "cell_type": "code",
   "execution_count": null,
   "id": "d8afea56",
   "metadata": {},
   "outputs": [],
   "source": []
  }
 ],
 "metadata": {
  "kernelspec": {
   "display_name": "Python 3 (ipykernel)",
   "language": "python",
   "name": "python3"
  },
  "language_info": {
   "codemirror_mode": {
    "name": "ipython",
    "version": 3
   },
   "file_extension": ".py",
   "mimetype": "text/x-python",
   "name": "python",
   "nbconvert_exporter": "python",
   "pygments_lexer": "ipython3",
   "version": "3.10.9"
  }
 },
 "nbformat": 4,
 "nbformat_minor": 5
}
