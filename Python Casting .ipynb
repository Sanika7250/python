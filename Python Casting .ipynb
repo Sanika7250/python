{
 "cells": [
  {
   "cell_type": "markdown",
   "id": "b7f8b617",
   "metadata": {},
   "source": [
    "### Python Casting\n"
   ]
  },
  {
   "cell_type": "markdown",
   "id": "fd037fe7",
   "metadata": {},
   "source": [
    "###### Casting in python is therefore done using constructor functions:\n",
    "\n",
    "###### int() - constructs an integer number from an integer literal, a float literal (by removing all decimals), or a string literal (providing the string represents a whole number)\n",
    "###### float() - constructs a float number from an integer literal, a float literal or a string literal (providing the string represents a float or an integer)\n",
    "###### str() - constructs a string from a wide variety of data types, including strings, integer literals and float literals"
   ]
  },
  {
   "cell_type": "markdown",
   "id": "5d044bcd",
   "metadata": {},
   "source": [
    "### 1.Int"
   ]
  },
  {
   "cell_type": "code",
   "execution_count": 1,
   "id": "dd43b2f9",
   "metadata": {},
   "outputs": [
    {
     "name": "stdout",
     "output_type": "stream",
     "text": [
      "1\n",
      "-30\n",
      "10000\n"
     ]
    }
   ],
   "source": [
    "x = int(1)\n",
    "y = int(-30)\n",
    "z = int(10000)\n",
    "\n",
    "print(x)\n",
    "print(y)\n",
    "print(z)"
   ]
  },
  {
   "cell_type": "markdown",
   "id": "457306da",
   "metadata": {},
   "source": [
    "### 2.Float"
   ]
  },
  {
   "cell_type": "code",
   "execution_count": 3,
   "id": "f639225c",
   "metadata": {},
   "outputs": [
    {
     "name": "stdout",
     "output_type": "stream",
     "text": [
      "13.14\n",
      "-30.6\n",
      "15.45632\n"
     ]
    }
   ],
   "source": [
    "a = float(13.14)\n",
    "b = float(-30.60)\n",
    "c = float(15.45632)\n",
    "\n",
    "print(a)\n",
    "print(b)\n",
    "print(c)\n"
   ]
  },
  {
   "cell_type": "markdown",
   "id": "a885ec4d",
   "metadata": {},
   "source": [
    "### 3.Complex"
   ]
  },
  {
   "cell_type": "code",
   "execution_count": 4,
   "id": "f02de6ec",
   "metadata": {},
   "outputs": [
    {
     "name": "stdout",
     "output_type": "stream",
     "text": [
      "8j\n",
      "(4+8j)\n",
      "(-0-7j)\n"
     ]
    }
   ],
   "source": [
    "x = complex(8j)\n",
    "y = complex(4+8j)\n",
    "z = complex(-7j)\n",
    "\n",
    "print(x)\n",
    "print(y)\n",
    "print(z)\n"
   ]
  },
  {
   "cell_type": "code",
   "execution_count": null,
   "id": "51981506",
   "metadata": {},
   "outputs": [],
   "source": []
  }
 ],
 "metadata": {
  "kernelspec": {
   "display_name": "Python 3 (ipykernel)",
   "language": "python",
   "name": "python3"
  },
  "language_info": {
   "codemirror_mode": {
    "name": "ipython",
    "version": 3
   },
   "file_extension": ".py",
   "mimetype": "text/x-python",
   "name": "python",
   "nbconvert_exporter": "python",
   "pygments_lexer": "ipython3",
   "version": "3.9.12"
  }
 },
 "nbformat": 4,
 "nbformat_minor": 5
}
