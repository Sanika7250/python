{
 "cells": [
  {
   "cell_type": "markdown",
   "id": "341a61ab",
   "metadata": {},
   "source": [
    "#### 1. Write a Python Program to find the sum of an array."
   ]
  },
  {
   "cell_type": "code",
   "execution_count": 1,
   "id": "2815a9c5",
   "metadata": {},
   "outputs": [
    {
     "name": "stdout",
     "output_type": "stream",
     "text": [
      "The sum of the array [1, 2, 3, 4, 5] is 15.\n"
     ]
    }
   ],
   "source": [
    "def find_sum_of_array(arr):\n",
    "    sum_array = sum(arr)\n",
    "    return sum_array\n",
    "\n",
    "# Test the function\n",
    "array = [1, 2, 3, 4, 5]\n",
    "sum_result = find_sum_of_array(array)\n",
    "print(f\"The sum of the array {array} is {sum_result}.\")"
   ]
  },
  {
   "cell_type": "markdown",
   "id": "5bb89766",
   "metadata": {},
   "source": [
    "#### 2. Write a Python Program to find the largest element in an array."
   ]
  },
  {
   "cell_type": "code",
   "execution_count": 2,
   "id": "25f04653",
   "metadata": {},
   "outputs": [
    {
     "name": "stdout",
     "output_type": "stream",
     "text": [
      "The largest element in the array [12, 45, 67, 23, 9] is 67.\n"
     ]
    }
   ],
   "source": [
    "def find_largest_element(arr):\n",
    "    largest = arr[0]\n",
    "    for num in arr:\n",
    "        if num > largest:\n",
    "            largest = num\n",
    "    return largest\n",
    "\n",
    "# Test the function\n",
    "array = [12, 45, 67, 23, 9]\n",
    "largest_element = find_largest_element(array)\n",
    "print(f\"The largest element in the array {array} is {largest_element}.\")"
   ]
  },
  {
   "cell_type": "markdown",
   "id": "4aa0e52a",
   "metadata": {},
   "source": [
    "#### 3. Write a Python Program for array rotation\n"
   ]
  },
  {
   "cell_type": "code",
   "execution_count": 3,
   "id": "a4bfb8e3",
   "metadata": {},
   "outputs": [
    {
     "name": "stdout",
     "output_type": "stream",
     "text": [
      "The array [1, 2, 3, 4, 5] after 2 rotation(s) is [3, 4, 5, 1, 2].\n"
     ]
    }
   ],
   "source": [
    "def rotate_array(arr, k):\n",
    "    n = len(arr)\n",
    "    k = k % n\n",
    "    rotated_array = arr[k:] + arr[:k]\n",
    "    return rotated_array\n",
    "\n",
    "# Test the function\n",
    "array = [1, 2, 3, 4, 5]\n",
    "rotation_steps = 2\n",
    "rotated_array = rotate_array(array, rotation_steps)\n",
    "print(f\"The array {array} after {rotation_steps} rotation(s) is {rotated_array}.\")"
   ]
  },
  {
   "cell_type": "markdown",
   "id": "89f4c939",
   "metadata": {},
   "source": [
    "#### 4. Write a Python Program to split the array and add the first part to the end."
   ]
  },
  {
   "cell_type": "code",
   "execution_count": 4,
   "id": "95a1a788",
   "metadata": {},
   "outputs": [
    {
     "name": "stdout",
     "output_type": "stream",
     "text": [
      "The array [1, 2, 3, 4, 5] after splitting at index 2 and adding the first part to the end is [3, 4, 5, 1, 2].\n"
     ]
    }
   ],
   "source": [
    "def split_and_add_array(arr, split_index):\n",
    "    if split_index >= len(arr):\n",
    "        return arr\n",
    "\n",
    "    split_part = arr[:split_index]\n",
    "    remaining_part = arr[split_index:]\n",
    "    new_array = remaining_part + split_part\n",
    "    return new_array\n",
    "\n",
    "# Test the function\n",
    "array = [1, 2, 3, 4, 5]\n",
    "split_index = 2\n",
    "new_array = split_and_add_array(array, split_index)\n",
    "print(f\"The array {array} after splitting at index {split_index} and adding the first part to the end is {new_array}.\")"
   ]
  },
  {
   "cell_type": "markdown",
   "id": "882a7f42",
   "metadata": {},
   "source": [
    "#### 5. Write a Python Program to check if the given array is Monotonic."
   ]
  },
  {
   "cell_type": "code",
   "execution_count": 5,
   "id": "aa892312",
   "metadata": {},
   "outputs": [
    {
     "name": "stdout",
     "output_type": "stream",
     "text": [
      "Is the array [1, 2, 3, 4, 5] monotonic? True\n",
      "Is the array [5, 4, 3, 2, 1] monotonic? True\n",
      "Is the array [1, 2, 2, 5, 7] monotonic? True\n"
     ]
    }
   ],
   "source": [
    "def is_monotonic(arr):\n",
    "    increasing = decreasing = True\n",
    "\n",
    "    for i in range(1, len(arr)):\n",
    "        if arr[i] > arr[i - 1]:\n",
    "            decreasing = False\n",
    "        elif arr[i] < arr[i - 1]:\n",
    "            increasing = False\n",
    "\n",
    "    return increasing or decreasing\n",
    "\n",
    "# Test the function\n",
    "array1 = [1, 2, 3, 4, 5]\n",
    "array2 = [5, 4, 3, 2, 1]\n",
    "array3 = [1, 2, 2, 5, 7]\n",
    "\n",
    "print(f\"Is the array {array1} monotonic? {is_monotonic(array1)}\")\n",
    "print(f\"Is the array {array2} monotonic? {is_monotonic(array2)}\")\n",
    "print(f\"Is the array {array3} monotonic? {is_monotonic(array3)}\")"
   ]
  },
  {
   "cell_type": "code",
   "execution_count": null,
   "id": "049f1e64",
   "metadata": {},
   "outputs": [],
   "source": []
  },
  {
   "cell_type": "code",
   "execution_count": null,
   "id": "d3b577a1",
   "metadata": {},
   "outputs": [],
   "source": []
  }
 ],
 "metadata": {
  "kernelspec": {
   "display_name": "Python 3 (ipykernel)",
   "language": "python",
   "name": "python3"
  },
  "language_info": {
   "codemirror_mode": {
    "name": "ipython",
    "version": 3
   },
   "file_extension": ".py",
   "mimetype": "text/x-python",
   "name": "python",
   "nbconvert_exporter": "python",
   "pygments_lexer": "ipython3",
   "version": "3.10.9"
  }
 },
 "nbformat": 4,
 "nbformat_minor": 5
}
