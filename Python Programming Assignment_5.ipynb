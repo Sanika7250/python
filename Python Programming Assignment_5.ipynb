{
 "cells": [
  {
   "cell_type": "markdown",
   "id": "f48f646f",
   "metadata": {},
   "source": [
    "#### 1: Write a Python Program to Find LCM\n"
   ]
  },
  {
   "cell_type": "code",
   "execution_count": 1,
   "id": "70029196",
   "metadata": {},
   "outputs": [
    {
     "name": "stdout",
     "output_type": "stream",
     "text": [
      "Enter first number: 12\n",
      "Enter second number: 14\n",
      "The LCM of 12 and 14 is 84.\n"
     ]
    }
   ],
   "source": [
    "def find_lcm(num1, num2):\n",
    "    # Find the greater number\n",
    "    if num1 > num2:\n",
    "        greater = num1\n",
    "    else:\n",
    "        greater = num2\n",
    "\n",
    "    while True:\n",
    "        if greater % num1 == 0 and greater % num2 == 0:\n",
    "            lcm = greater\n",
    "            break\n",
    "        greater += 1\n",
    "\n",
    "    return lcm\n",
    "\n",
    "# Test the function\n",
    "number1 = int(input(\"Enter first number: \"))\n",
    "number2 = int(input(\"Enter second number: \"))\n",
    "lcm_result = find_lcm(number1, number2)\n",
    "print(f\"The LCM of {number1} and {number2} is {lcm_result}.\")"
   ]
  },
  {
   "cell_type": "markdown",
   "id": "335b7944",
   "metadata": {},
   "source": [
    "#### 2: Write a Python Program to Find HCF"
   ]
  },
  {
   "cell_type": "code",
   "execution_count": 2,
   "id": "f8c7938a",
   "metadata": {},
   "outputs": [
    {
     "name": "stdout",
     "output_type": "stream",
     "text": [
      "Enter first number: 100\n",
      "Enter second number: 200\n",
      "The HCF of 100 and 200 is 100.\n"
     ]
    }
   ],
   "source": [
    "def find_hcf(num1, num2):\n",
    "    while num2:\n",
    "        num1, num2 = num2, num1 % num2\n",
    "    return num1\n",
    "\n",
    "number1 = int(input(\"Enter first number: \"))\n",
    "number2 = int(input(\"Enter second number: \"))\n",
    "hcf_result = find_hcf(number1, number2)\n",
    "print(f\"The HCF of {number1} and {number2} is {hcf_result}.\")\n"
   ]
  },
  {
   "cell_type": "markdown",
   "id": "f819e736",
   "metadata": {},
   "source": [
    "#### 3: Write a Python Program to Convert Decimal to Binary, Octal, and Hexadecimal"
   ]
  },
  {
   "cell_type": "code",
   "execution_count": 6,
   "id": "22f81b34",
   "metadata": {},
   "outputs": [
    {
     "name": "stdout",
     "output_type": "stream",
     "text": [
      "Enter a decimal number: 12\n",
      "Binary: 1100\n",
      "Octal: 14\n",
      "Hexadecimal: c\n"
     ]
    }
   ],
   "source": [
    "def convert_to_binary_octal_hex(decimal_number):\n",
    "    binary = bin(decimal_number)[2:]\n",
    "    octal = oct(decimal_number)[2:]\n",
    "    hexadecimal = hex(decimal_number)[2:]\n",
    "    return binary, octal, hexadecimal\n",
    "\n",
    "\n",
    "number = int(input(\"Enter a decimal number: \"))\n",
    "binary_result, octal_result, hex_result = convert_to_binary_octal_hex(number)\n",
    "print(f\"Binary: {binary_result}\")\n",
    "print(f\"Octal: {octal_result}\")\n",
    "print(f\"Hexadecimal: {hex_result}\")\n"
   ]
  },
  {
   "cell_type": "markdown",
   "id": "987e99e9",
   "metadata": {},
   "source": [
    "#### 4: Write a Python Program to Find ASCII Value of a Character"
   ]
  },
  {
   "cell_type": "code",
   "execution_count": 4,
   "id": "8c752935",
   "metadata": {},
   "outputs": [
    {
     "name": "stdout",
     "output_type": "stream",
     "text": [
      "Enter a character: s\n",
      "The ASCII value of 's' is 115.\n"
     ]
    }
   ],
   "source": [
    "character = input(\"Enter a character: \")\n",
    "ascii_value = ord(character)\n",
    "print(f\"The ASCII value of '{character}' is {ascii_value}.\")"
   ]
  },
  {
   "cell_type": "markdown",
   "id": "1757075e",
   "metadata": {},
   "source": [
    "#### 5: Write a Python Program to Make a Simple Calculator"
   ]
  },
  {
   "cell_type": "code",
   "execution_count": 6,
   "id": "5755d261",
   "metadata": {},
   "outputs": [
    {
     "name": "stdout",
     "output_type": "stream",
     "text": [
      "Select operation:\n",
      "1. Add\n",
      "2. Subtract\n",
      "3. Multiply\n",
      "4. Divide\n",
      "Enter choice (1/2/3/4): 1\n",
      "Enter first number: 12\n",
      "Enter second number: 15\n",
      "12.0 + 15.0 = 27.0\n"
     ]
    }
   ],
   "source": [
    "def add(x, y):\n",
    "    return x + y\n",
    "\n",
    "def subtract(x, y):\n",
    "    return x - y\n",
    "\n",
    "def multiply(x, y):\n",
    "    return x * y\n",
    "\n",
    "def divide(x, y):\n",
    "    if y != 0:\n",
    "        return x / y\n",
    "    else:\n",
    "        return \"Error: Cannot divide by zero.\"\n",
    "\n",
    "print(\"Select operation:\")\n",
    "print(\"1. Add\")\n",
    "print(\"2. Subtract\")\n",
    "print(\"3. Multiply\")\n",
    "print(\"4. Divide\")\n",
    "\n",
    "while True:\n",
    "    choice = input(\"Enter choice (1/2/3/4): \")\n",
    "\n",
    "    if choice in ('1', '2', '3', '4'):\n",
    "        num1 = float(input(\"Enter first number: \"))\n",
    "        num2 = float(input(\"Enter second number: \"))\n",
    "\n",
    "        if choice == '1':\n",
    "            print(f\"{num1} + {num2} = {add(num1, num2)}\")\n",
    "        elif choice == '2':\n",
    "            print(f\"{num1} - {num2} = {subtract(num1, num2)}\")\n",
    "        elif choice == '3':\n",
    "            print(f\"{num1} * {num2} = {multiply(num1, num2)}\")\n",
    "        elif choice == '4':\n",
    "            print(f\"{num1} / {num2} = {divide(num1, num2)}\")\n",
    "        break\n",
    "    else:\n",
    "        print(\"Invalid Input\")\n",
    "\n",
    "\n",
    "\n",
    "\n",
    "\n",
    "\n"
   ]
  },
  {
   "cell_type": "code",
   "execution_count": null,
   "id": "837e854a",
   "metadata": {},
   "outputs": [],
   "source": []
  },
  {
   "cell_type": "code",
   "execution_count": null,
   "id": "88a42b2e",
   "metadata": {},
   "outputs": [],
   "source": []
  },
  {
   "cell_type": "code",
   "execution_count": null,
   "id": "73d7323a",
   "metadata": {},
   "outputs": [],
   "source": []
  },
  {
   "cell_type": "code",
   "execution_count": null,
   "id": "1ff7234c",
   "metadata": {},
   "outputs": [],
   "source": []
  },
  {
   "cell_type": "code",
   "execution_count": null,
   "id": "6c4359b0",
   "metadata": {},
   "outputs": [],
   "source": []
  },
  {
   "cell_type": "code",
   "execution_count": null,
   "id": "11df526d",
   "metadata": {},
   "outputs": [],
   "source": []
  },
  {
   "cell_type": "code",
   "execution_count": null,
   "id": "7c400afa",
   "metadata": {},
   "outputs": [],
   "source": []
  },
  {
   "cell_type": "code",
   "execution_count": null,
   "id": "2064fea8",
   "metadata": {},
   "outputs": [],
   "source": []
  }
 ],
 "metadata": {
  "kernelspec": {
   "display_name": "Python 3 (ipykernel)",
   "language": "python",
   "name": "python3"
  },
  "language_info": {
   "codemirror_mode": {
    "name": "ipython",
    "version": 3
   },
   "file_extension": ".py",
   "mimetype": "text/x-python",
   "name": "python",
   "nbconvert_exporter": "python",
   "pygments_lexer": "ipython3",
   "version": "3.10.9"
  }
 },
 "nbformat": 4,
 "nbformat_minor": 5
}
