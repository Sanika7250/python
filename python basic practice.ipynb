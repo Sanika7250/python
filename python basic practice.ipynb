{
 "cells": [
  {
   "cell_type": "code",
   "execution_count": 4,
   "id": "9a76aca0",
   "metadata": {},
   "outputs": [
    {
     "name": "stdout",
     "output_type": "stream",
     "text": [
      "hallo sanika\n"
     ]
    }
   ],
   "source": [
    "print(\"hallo sanika\")"
   ]
  },
  {
   "cell_type": "code",
   "execution_count": 6,
   "id": "52a83026",
   "metadata": {},
   "outputs": [
    {
     "data": {
      "text/plain": [
       "str"
      ]
     },
     "execution_count": 6,
     "metadata": {},
     "output_type": "execute_result"
    }
   ],
   "source": [
    "type(\"sanika\")"
   ]
  },
  {
   "cell_type": "code",
   "execution_count": 5,
   "id": "a48ac4c0",
   "metadata": {},
   "outputs": [
    {
     "name": "stdout",
     "output_type": "stream",
     "text": [
      "2755482447696\n",
      "2755482447696\n"
     ]
    }
   ],
   "source": [
    "a=50\n",
    "b=a\n",
    "print(id(a))\n",
    "print(id(b))"
   ]
  },
  {
   "cell_type": "code",
   "execution_count": 13,
   "id": "a4c0f60d",
   "metadata": {},
   "outputs": [
    {
     "name": "stdout",
     "output_type": "stream",
     "text": [
      "Sanika\n",
      "20\n",
      "85\n"
     ]
    }
   ],
   "source": [
    "name = \"Sanika\"  \n",
    "age = 20  \n",
    "marks = 85 \n",
    "  \n",
    "print(name)  \n",
    "print(age)  \n",
    "print(marks)  "
   ]
  },
  {
   "cell_type": "code",
   "execution_count": 16,
   "id": "d6fc0e65",
   "metadata": {},
   "outputs": [
    {
     "name": "stdout",
     "output_type": "stream",
     "text": [
      "A B c D\n"
     ]
    }
   ],
   "source": [
    "Name = \"A\"\n",
    "name = \"B\"\n",
    "N_A_M_E = \"c\"\n",
    "NaMe = \"D\"\n",
    "\n",
    "print(Name,name,N_A_M_E,NaMe)"
   ]
  },
  {
   "cell_type": "code",
   "execution_count": 19,
   "id": "a60272c6",
   "metadata": {},
   "outputs": [
    {
     "name": "stdout",
     "output_type": "stream",
     "text": [
      "50\n",
      "50\n",
      "50\n"
     ]
    }
   ],
   "source": [
    "X = Y = Z = 50\n",
    "\n",
    "print(X)\n",
    "print(Y)\n",
    "print(Z)"
   ]
  },
  {
   "cell_type": "code",
   "execution_count": 20,
   "id": "ffb869c9",
   "metadata": {},
   "outputs": [
    {
     "name": "stdout",
     "output_type": "stream",
     "text": [
      "50\n",
      "100\n",
      "150\n"
     ]
    }
   ],
   "source": [
    "a,b,c = 50,100,150\n",
    "\n",
    "print(a)\n",
    "print(b)\n",
    "print(c)"
   ]
  },
  {
   "cell_type": "code",
   "execution_count": 36,
   "id": "57b662cc",
   "metadata": {},
   "outputs": [
    {
     "name": "stdout",
     "output_type": "stream",
     "text": [
      "The sum is: 50\n"
     ]
    }
   ],
   "source": [
    " \n",
    "def add():  \n",
    "     \n",
    "    a = 20  \n",
    "    b = 30  \n",
    "    c = a + b  \n",
    "    print(\"The sum is:\", c)  \n",
    "  \n",
    " \n",
    "add()  \n",
    "  "
   ]
  },
  {
   "cell_type": "code",
   "execution_count": 46,
   "id": "141de1cf",
   "metadata": {},
   "outputs": [
    {
     "name": "stdout",
     "output_type": "stream",
     "text": [
      "100\n",
      "welcome to ineuron\n",
      "welcome to ineuron\n"
     ]
    }
   ],
   "source": [
    "X = 100 \n",
    "\n",
    "def mainFunction():\n",
    " global X\n",
    "print(X)\n",
    "X = 'welcome to ineuron'\n",
    "print(X)\n",
    "mainFunction()\n",
    "print(X)"
   ]
  },
  {
   "cell_type": "code",
   "execution_count": 71,
   "id": "0e78dedf",
   "metadata": {},
   "outputs": [
    {
     "name": "stdout",
     "output_type": "stream",
     "text": [
      "10\n"
     ]
    }
   ],
   "source": [
    " y = 10\n",
    "print(y)\n",
    "del y "
   ]
  },
  {
   "cell_type": "code",
   "execution_count": 73,
   "id": "eff423bd",
   "metadata": {},
   "outputs": [
    {
     "name": "stdout",
     "output_type": "stream",
     "text": [
      "<class 'int'>\n",
      "<class 'str'>\n",
      "<class 'float'>\n"
     ]
    }
   ],
   "source": [
    "a = 10\n",
    "b = \"sanika\"\n",
    "c = 10.5\n",
    "\n",
    "print(type(a))\n",
    "print(type(b))\n",
    "print(type(c))\n"
   ]
  },
  {
   "cell_type": "code",
   "execution_count": null,
   "id": "8c3e6086",
   "metadata": {},
   "outputs": [],
   "source": []
  },
  {
   "cell_type": "code",
   "execution_count": 75,
   "id": "6dbb04d7",
   "metadata": {},
   "outputs": [
    {
     "name": "stdout",
     "output_type": "stream",
     "text": [
      "type of a <class 'int'>\n",
      "type of b <class 'float'>\n",
      "type of c <class 'complex'>\n"
     ]
    }
   ],
   "source": [
    "a = 10\n",
    "print(\"type of a\",type(a))\n",
    "b = 20.15\n",
    "print(\"type of b\",type(b))\n",
    "c = 1+3j\n",
    "print(\"type of c\",type(c))"
   ]
  },
  {
   "cell_type": "code",
   "execution_count": 80,
   "id": "66614203",
   "metadata": {},
   "outputs": [
    {
     "name": "stdout",
     "output_type": "stream",
     "text": [
      "<class 'bool'>\n",
      "<class 'bool'>\n",
      "False\n"
     ]
    }
   ],
   "source": [
    "print(type(True))\n",
    "print(type(False))\n",
    "print(False)"
   ]
  },
  {
   "cell_type": "code",
   "execution_count": 92,
   "id": "f787c7b2",
   "metadata": {},
   "outputs": [
    {
     "name": "stdout",
     "output_type": "stream",
     "text": [
      "{2, 3, 'James', 'Python'}\n",
      "{2, 3, 'James', 'Python', 10}\n",
      "{3, 'James', 'Python', 10}\n"
     ]
    }
   ],
   "source": [
    "   \n",
    "set2 = {'James', 2, 3,'Python'}  \n",
    " \n",
    "print(set2)  \n",
    "   \n",
    "  \n",
    "set2.add(10)  \n",
    "print(set2)  \n",
    "  \n",
    "set2.remove(2)  \n",
    "print(set2)  \n",
    "\n",
    "\n",
    "\n"
   ]
  },
  {
   "cell_type": "code",
   "execution_count": 93,
   "id": "36669a19",
   "metadata": {},
   "outputs": [
    {
     "name": "stdout",
     "output_type": "stream",
     "text": [
      "<class 'str'>\n",
      "''A multiline \n",
      "string\n"
     ]
    }
   ],
   "source": [
    "print(str)  \n",
    "s = '''''A multiline \n",
    "string'''  \n",
    "print(s)  "
   ]
  },
  {
   "cell_type": "code",
   "execution_count": 96,
   "id": "d7ba494a",
   "metadata": {},
   "outputs": [
    {
     "name": "stdout",
     "output_type": "stream",
     "text": [
      "ha\n",
      "o\n",
      "hallo pythonhallo python\n",
      "hallo pythonhow are you\n"
     ]
    }
   ],
   "source": [
    "str1 = \"hallo python\"\n",
    "str2 = \"how are you\"\n",
    "\n",
    "print(str1[0:2])\n",
    "print(str1[4])\n",
    "print(str1*2)\n",
    "print(str1 + str2)"
   ]
  },
  {
   "cell_type": "code",
   "execution_count": 105,
   "id": "b1838c10",
   "metadata": {},
   "outputs": [
    {
     "name": "stdout",
     "output_type": "stream",
     "text": [
      "[1, 'hi', 'python']\n",
      "['python']\n",
      "[1, 'hi', 'python', 1, 'hi', 'python']\n"
     ]
    }
   ],
   "source": [
    "list1 = [1,\"hi\",\"python\"]\n",
    "\n",
    "print(list1)\n",
    " \n",
    "print(list1[2:])\n",
    "print(list1 + list1)"
   ]
  },
  {
   "cell_type": "code",
   "execution_count": 108,
   "id": "e9cf1961",
   "metadata": {},
   "outputs": [
    {
     "name": "stdout",
     "output_type": "stream",
     "text": [
      "[1, 'hi', 'sanika', 3]\n",
      "[3]\n",
      "['sanika', 3]\n",
      "[1, 'hi', 'sanika', 3, 1, 'hi', 'sanika', 3]\n",
      "[1, 'hi', 'sanika', 3, 1, 'hi', 'sanika', 3, 1, 'hi', 'sanika', 3]\n"
     ]
    }
   ],
   "source": [
    "tup = [1,'hi', 'sanika',3]\n",
    "print(tup)\n",
    "print(tup[3:])\n",
    "print(tup[2:])\n",
    "print(tup + tup)\n",
    "print(tup * 3)\n"
   ]
  },
  {
   "cell_type": "code",
   "execution_count": 112,
   "id": "fe5d1099",
   "metadata": {},
   "outputs": [
    {
     "name": "stdout",
     "output_type": "stream",
     "text": [
      "{1: 'Jimmy', 2: 'Alex', 3: 'john', 4: 'mike'}\n",
      "1st name is Jimmy\n",
      "2nd name is mike\n",
      "dict_keys([1, 2, 3, 4])\n",
      "dict_values(['Jimmy', 'Alex', 'john', 'mike'])\n"
     ]
    }
   ],
   "source": [
    "d = {1:'Jimmy', 2:'Alex', 3:'john', 4:'mike'}     \n",
    "  \n",
    "print (d)  \n",
    "  \n",
    " \n",
    "print(\"1st name is \"+d[1])   \n",
    "print(\"2nd name is \"+ d[4])    \n",
    "  \n",
    "print (d.keys())    \n",
    "print (d.values())    "
   ]
  },
  {
   "cell_type": "code",
   "execution_count": null,
   "id": "f02f5a0c",
   "metadata": {},
   "outputs": [],
   "source": []
  }
 ],
 "metadata": {
  "kernelspec": {
   "display_name": "Python 3 (ipykernel)",
   "language": "python",
   "name": "python3"
  },
  "language_info": {
   "codemirror_mode": {
    "name": "ipython",
    "version": 3
   },
   "file_extension": ".py",
   "mimetype": "text/x-python",
   "name": "python",
   "nbconvert_exporter": "python",
   "pygments_lexer": "ipython3",
   "version": "3.9.12"
  }
 },
 "nbformat": 4,
 "nbformat_minor": 5
}
